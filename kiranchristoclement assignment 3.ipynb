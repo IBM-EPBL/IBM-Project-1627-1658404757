{
  "nbformat": 4,
  "nbformat_minor": 0,
  "metadata": {
    "colab": {
      "provenance": []
    },
    "kernelspec": {
      "name": "python3",
      "display_name": "Python 3"
    },
    "language_info": {
      "name": "python"
    }
  },
  "cells": [
    {
      "cell_type": "code",
      "execution_count": null,
      "metadata": {
        "id": "kFH3zxYVPwnd"
      },
      "outputs": [],
      "source": [
        "import numpy as np\n",
        "import pandas as pd\n",
        "import seaborn as sns\n",
        "import matplotlib.pyplot as plt\n",
        "import sklearn"
      ]
    },
    {
      "cell_type": "markdown",
      "source": [
        "# 1.DOWNLOAD THE DATASET\n",
        "# 2. LOAD THE DATASET"
      ],
      "metadata": {
        "id": "4iCdKqIpQi3t"
      }
    },
    {
      "cell_type": "code",
      "source": [
        "data = pd.read_csv(\"abalone.csv\")\n",
        "data\n"
      ],
      "metadata": {
        "id": "wtFp2MGsQo1K"
      },
      "execution_count": null,
      "outputs": []
    },
    {
      "cell_type": "code",
      "source": [
        "\tSex\tLength\tDiameter\tHeight\tWhole weight\tShucked weight\tViscera weight\tShell weight\tRings\n",
        "0\tM\t0.455\t0.365\t0.095\t0.5140\t0.2245\t0.1010\t0.1500\t15\n",
        "1\tM\t0.350\t0.265\t0.090\t0.2255\t0.0995\t0.0485\t0.0700\t7\n",
        "2\tF\t0.530\t0.420\t0.135\t0.6770\t0.2565\t0.1415\t0.2100\t9\n",
        "3\tM\t0.440\t0.365\t0.125\t0.5160\t0.2155\t0.1140\t0.1550\t10\n",
        "4\tI\t0.330\t0.255\t0.080\t0.2050\t0.0895\t0.0395\t0.0550\t7\n",
        "...\t...\t...\t...\t...\t...\t...\t...\t...\t...\n",
        "4172\tF\t0.565\t0.450\t0.165\t0.8870\t0.3700\t0.2390\t0.2490\t11\n",
        "4173\tM\t0.590\t0.440\t0.135\t0.9660\t0.4390\t0.2145\t0.2605\t10\n",
        "4174\tM\t0.600\t0.475\t0.205\t1.1760\t0.5255\t0.2875\t0.3080\t9\n",
        "4175\tF\t0.625\t0.485\t0.150\t1.0945\t0.5310\t0.2610\t0.2960\t10\n",
        "4176\tM\t0.710\t0.555\t0.195\t1.9485\t0.9455\t0.3765\t0.4950\t12\n",
        "4177 rows × 9 columns"
      ],
      "metadata": {
        "id": "O7aIl_NpQsFK"
      },
      "execution_count": null,
      "outputs": []
    },
    {
      "cell_type": "markdown",
      "source": [
        "# ADD 1.5+RINGS AND NAME IT AS AGE"
      ],
      "metadata": {
        "id": "cHuVQqdDQ0JL"
      }
    },
    {
      "cell_type": "code",
      "source": [
        "Age=1.5+data.Rings\n",
        "data[\"Age\"]=Age\n",
        "data=data.rename(columns = {'Whole weight':'Whole_weight','Shucked weight': 'Shucked_weight','Viscera weight': 'Viscera_weight',\n",
        "                            'Shell weight': 'Shell_weight'})\n",
        "data=data.drop(columns=[\"Rings\"],axis=1)\n",
        "data.head()"
      ],
      "metadata": {
        "id": "-oHYmdwoQ2X5"
      },
      "execution_count": null,
      "outputs": []
    },
    {
      "cell_type": "code",
      "source": [
        "Sex\tLength\tDiameter\tHeight\tWhole_weight\tShucked_weight\tViscera_weight\tShell_weight\tAge\n",
        "0\tM\t0.455\t0.365\t0.095\t0.5140\t0.2245\t0.1010\t0.150\t16.5\n",
        "1\tM\t0.350\t0.265\t0.090\t0.2255\t0.0995\t0.0485\t0.070\t8.5\n",
        "2\tF\t0.530\t0.420\t0.135\t0.6770\t0.2565\t0.1415\t0.210\t10.5\n",
        "3\tM\t0.440\t0.365\t0.125\t0.5160\t0.2155\t0.1140\t0.155\t11.5\n",
        "4\tI\t0.330\t0.255\t0.080\t0.2050\t0.0895\t0.0395\t0.055\t8.5"
      ],
      "metadata": {
        "id": "2VAnG82ORAq6"
      },
      "execution_count": null,
      "outputs": []
    },
    {
      "cell_type": "markdown",
      "source": [
        "# PERFORM VISUALIZATIONS\n",
        "# (i) UNIVARIATE ANALYSIS"
      ],
      "metadata": {
        "id": "o-pG9bj-RCLh"
      }
    },
    {
      "cell_type": "code",
      "source": [
        "sns.histplot(data[\"Age\"])"
      ],
      "metadata": {
        "id": "A_ot1RckREMa"
      },
      "execution_count": null,
      "outputs": []
    },
    {
      "cell_type": "code",
      "source": [
        "<AxesSubplot:xlabel='Age', ylabel='Count'>"
      ],
      "metadata": {
        "id": "1-K3hzVmRJlD"
      },
      "execution_count": null,
      "outputs": []
    },
    {
      "cell_type": "code",
      "source": [
        "sns.boxplot(data['Age'])"
      ],
      "metadata": {
        "id": "eWrVowb2RZGZ"
      },
      "execution_count": null,
      "outputs": []
    },
    {
      "cell_type": "code",
      "source": [
        "<AxesSubplot:>"
      ],
      "metadata": {
        "id": "3slGW1d-Rbxj"
      },
      "execution_count": null,
      "outputs": []
    },
    {
      "cell_type": "code",
      "source": [
        "sns.countplot(x=data.Age)"
      ],
      "metadata": {
        "id": "uBDkm6oCRjRH"
      },
      "execution_count": null,
      "outputs": []
    },
    {
      "cell_type": "code",
      "source": [
        "<AxesSubplot:xlabel='Age', ylabel='count'>"
      ],
      "metadata": {
        "id": "fcg9QXZQRrCJ"
      },
      "execution_count": null,
      "outputs": []
    },
    {
      "cell_type": "markdown",
      "source": [
        "# (ii)BI-VARIATE ANALYSIS"
      ],
      "metadata": {
        "id": "5bW26HkhRzDJ"
      }
    },
    {
      "cell_type": "code",
      "source": [
        "sns.barplot(x=data.Age, y=data.Length)"
      ],
      "metadata": {
        "id": "WmmuJwujR8ca"
      },
      "execution_count": null,
      "outputs": []
    },
    {
      "cell_type": "code",
      "source": [
        "<AxesSubplot:xlabel='Age', ylabel='Length'>"
      ],
      "metadata": {
        "id": "dwnHYMp1R-j6"
      },
      "execution_count": null,
      "outputs": []
    },
    {
      "cell_type": "code",
      "source": [
        "plt.figure(figsize=(15,15))\n",
        "sns.barplot(x=data.Age , y=data.Length)"
      ],
      "metadata": {
        "id": "ZEHwaJEFSE34"
      },
      "execution_count": null,
      "outputs": []
    },
    {
      "cell_type": "markdown",
      "source": [
        "# (iii)MULTI-VARIATE ANALYSIS"
      ],
      "metadata": {
        "id": "Cs7w4UohSUDF"
      }
    },
    {
      "cell_type": "code",
      "source": [
        "sns.scatterplot((data['Age'], data['Length']))"
      ],
      "metadata": {
        "id": "aQLs8J2cSWpl"
      },
      "execution_count": null,
      "outputs": []
    },
    {
      "cell_type": "code",
      "source": [
        "<AxesSubplot:>"
      ],
      "metadata": {
        "id": "SIbEfeF5SZe1"
      },
      "execution_count": null,
      "outputs": []
    },
    {
      "cell_type": "code",
      "source": [
        "sns.pairplot(data)"
      ],
      "metadata": {
        "id": "yA9UUr_MSbms"
      },
      "execution_count": null,
      "outputs": []
    },
    {
      "cell_type": "code",
      "source": [
        "<seaborn.axisgrid.PairGrid at 0x2650eebe3c8>"
      ],
      "metadata": {
        "id": "s0nHjmvQSexl"
      },
      "execution_count": null,
      "outputs": []
    },
    {
      "cell_type": "code",
      "source": [
        "<AxesSubplot:>"
      ],
      "metadata": {
        "id": "-lTJoh_xTBdn"
      },
      "execution_count": null,
      "outputs": []
    },
    {
      "cell_type": "markdown",
      "source": [
        "# 4.DESCRIPTIVE ANALYSIS"
      ],
      "metadata": {
        "id": "g76lIIo6TGWW"
      }
    },
    {
      "cell_type": "code",
      "source": [
        "data[['Age','Length']].mean()"
      ],
      "metadata": {
        "id": "RK1qc-6TTHwf"
      },
      "execution_count": null,
      "outputs": []
    },
    {
      "cell_type": "code",
      "source": [
        "Age       11.433684\n",
        "Length     0.523992\n",
        "dtype: float64"
      ],
      "metadata": {
        "id": "jR9chZeiTPqe"
      },
      "execution_count": null,
      "outputs": []
    },
    {
      "cell_type": "code",
      "source": [
        "data[['Age','Length']].median()"
      ],
      "metadata": {
        "id": "hQuzUOG3TVEG"
      },
      "execution_count": null,
      "outputs": []
    },
    {
      "cell_type": "code",
      "source": [
        "Age       10.500\n",
        "Length     0.545\n",
        "dtype: float64"
      ],
      "metadata": {
        "id": "YxjBeUaLTWgf"
      },
      "execution_count": null,
      "outputs": []
    },
    {
      "cell_type": "code",
      "source": [
        "data[['Age','Length']].mode()"
      ],
      "metadata": {
        "id": "TWkF5BtNTYF4"
      },
      "execution_count": null,
      "outputs": []
    },
    {
      "cell_type": "code",
      "source": [
        "\tAge\tLength\n",
        "0\t10.5\t0.550\n",
        "1\tNaN\t0.625"
      ],
      "metadata": {
        "id": "UBL35ApjTZuf"
      },
      "execution_count": null,
      "outputs": []
    },
    {
      "cell_type": "code",
      "source": [
        "data[['Age','Length']].var()"
      ],
      "metadata": {
        "id": "ZaFU9ipRTcJH"
      },
      "execution_count": null,
      "outputs": []
    },
    {
      "cell_type": "code",
      "source": [
        "Age       10.395266\n",
        "Length     0.014422\n",
        "dtype: float64"
      ],
      "metadata": {
        "id": "6q8VOLIKTiMK"
      },
      "execution_count": null,
      "outputs": []
    },
    {
      "cell_type": "code",
      "source": [
        "data[['Age','Length']].std()"
      ],
      "metadata": {
        "id": "4I69_DQoTnVt"
      },
      "execution_count": null,
      "outputs": []
    },
    {
      "cell_type": "code",
      "source": [
        "Age       3.224169\n",
        "Length    0.120093\n",
        "dtype: float64"
      ],
      "metadata": {
        "id": "gC1MyP5fTqjD"
      },
      "execution_count": null,
      "outputs": []
    },
    {
      "cell_type": "code",
      "source": [
        "data[['Age','Length']].describe()"
      ],
      "metadata": {
        "id": "eDhr6fVmTsUs"
      },
      "execution_count": null,
      "outputs": []
    },
    {
      "cell_type": "code",
      "source": [
        "\tAge\tLength\n",
        "count\t4177.000000\t4177.000000\n",
        "mean\t11.433684\t0.523992\n",
        "std\t3.224169\t0.120093\n",
        "min\t2.500000\t0.075000\n",
        "25%\t9.500000\t0.450000\n",
        "50%\t10.500000\t0.545000\n",
        "75%\t12.500000\t0.615000\n",
        "max\t30.500000\t0.815000"
      ],
      "metadata": {
        "id": "AV0rZaHHTxic"
      },
      "execution_count": null,
      "outputs": []
    },
    {
      "cell_type": "markdown",
      "source": [
        "# 5.HANDLE THE MISSING VALUES"
      ],
      "metadata": {
        "id": "CQxgFP-OT9hH"
      }
    },
    {
      "cell_type": "code",
      "source": [
        "data.isnull().any()"
      ],
      "metadata": {
        "id": "Yl_pFt1oUESk"
      },
      "execution_count": null,
      "outputs": []
    },
    {
      "cell_type": "code",
      "source": [
        "Sex               False\n",
        "Length            False\n",
        "Diameter          False\n",
        "Height            False\n",
        "Whole_weight      False\n",
        "Shucked_weight    False\n",
        "Viscera_weight    False\n",
        "Shell_weight      False\n",
        "Age               False\n",
        "dtype: bool"
      ],
      "metadata": {
        "id": "aVak0YIlUHvD"
      },
      "execution_count": null,
      "outputs": []
    },
    {
      "cell_type": "code",
      "source": [
        "data.isnull().sum()"
      ],
      "metadata": {
        "id": "IIuBIkJXUKZs"
      },
      "execution_count": null,
      "outputs": []
    },
    {
      "cell_type": "code",
      "source": [
        "Sex               0\n",
        "Length            0\n",
        "Diameter          0\n",
        "Height            0\n",
        "Whole_weight      0\n",
        "Shucked_weight    0\n",
        "Viscera_weight    0\n",
        "Shell_weight      0\n",
        "Age               0\n",
        "dtype: int64"
      ],
      "metadata": {
        "id": "uSuLGEWbUMwk"
      },
      "execution_count": null,
      "outputs": []
    },
    {
      "cell_type": "markdown",
      "source": [
        "# 6.FINDING OUTLIERS AND REPLACING THEM"
      ],
      "metadata": {
        "id": "9LTRSb6zUUpp"
      }
    },
    {
      "cell_type": "code",
      "source": [
        "sns.boxplot(x=data['Age'])"
      ],
      "metadata": {
        "id": "pwHkgI5SUZD5"
      },
      "execution_count": null,
      "outputs": []
    },
    {
      "cell_type": "code",
      "source": [
        "<AxesSubplot:xlabel='Age'>"
      ],
      "metadata": {
        "id": "kl7--4SZUbIJ"
      },
      "execution_count": null,
      "outputs": []
    },
    {
      "cell_type": "code",
      "source": [
        "Q1= data['Age'].quantile(0.25)\n",
        "Q2=data['Age'].quantile(0.75)\n",
        "print(Q1,Q2)"
      ],
      "metadata": {
        "id": "jslwOcpnUdgZ"
      },
      "execution_count": null,
      "outputs": []
    },
    {
      "cell_type": "code",
      "source": [
        "IQR=Q2-Q1\n",
        "IQR"
      ],
      "metadata": {
        "id": "_0f-dH3pUhjP"
      },
      "execution_count": null,
      "outputs": []
    },
    {
      "cell_type": "code",
      "source": [
        "upper_limit =Q2 + 1.5*IQR\n",
        "lower_limit =Q1 - 1.5*IQR\n",
        "upper_limit\n",
        "lower_limit"
      ],
      "metadata": {
        "id": "gU9aIcKKUkPQ"
      },
      "execution_count": null,
      "outputs": []
    },
    {
      "cell_type": "code",
      "source": [
        "data[\"Age\"] = np.where(data[\"Age\"]<lower_limit,6.52,data[\"Age\"])"
      ],
      "metadata": {
        "id": "rKpCaQk4UmI4"
      },
      "execution_count": null,
      "outputs": []
    },
    {
      "cell_type": "code",
      "source": [
        "data[\"Age\"] = np.where(data[\"Age\"]<lower_limit,6.52,data[\"Age\"])\n",
        "sns.violinplot(x=data[\"Age\"])"
      ],
      "metadata": {
        "id": "hAY6ps5IUn2P"
      },
      "execution_count": null,
      "outputs": []
    },
    {
      "cell_type": "code",
      "source": [
        "<AxesSubplot:xlabel='Age'>"
      ],
      "metadata": {
        "id": "UHWVPxBEUqnu"
      },
      "execution_count": null,
      "outputs": []
    },
    {
      "cell_type": "markdown",
      "source": [
        "# 7.CHECK FOR CATEGORICAL COLUMN AND PERFORM ENCODING"
      ],
      "metadata": {
        "id": "I9Ov6rQLUw0J"
      }
    },
    {
      "cell_type": "code",
      "source": [
        "from sklearn.preprocessing import LabelEncoder, OneHotEncoder\n",
        "le = LabelEncoder()\n",
        "oneh = OneHotEncoder()\n",
        "data['Age'] = le.fit_transform(data['Age'])"
      ],
      "metadata": {
        "id": "7c_xP6nfU0nx"
      },
      "execution_count": null,
      "outputs": []
    },
    {
      "cell_type": "code",
      "source": [
        "data.head()"
      ],
      "metadata": {
        "id": "LvRgVw4KU225"
      },
      "execution_count": null,
      "outputs": []
    },
    {
      "cell_type": "code",
      "source": [
        "\tSex\tLength\tDiameter\tHeight\tWhole_weight\tShucked_weight\tViscera_weight\tShell_weight\tAge\n",
        "0\tM\t0.455\t0.365\t0.095\t0.5140\t0.2245\t0.1010\t0.150\t12\n",
        "1\tM\t0.350\t0.265\t0.090\t0.2255\t0.0995\t0.0485\t0.070\t4\n",
        "2\tF\t0.530\t0.420\t0.135\t0.6770\t0.2565\t0.1415\t0.210\t6\n",
        "3\tM\t0.440\t0.365\t0.125\t0.5160\t0.2155\t0.1140\t0.155\t7\n",
        "4\tI\t0.330\t0.255\t0.080\t0.2050\t0.0895\t0.0395\t0.055\t4"
      ],
      "metadata": {
        "id": "9D5HpzglU7RR"
      },
      "execution_count": null,
      "outputs": []
    },
    {
      "cell_type": "markdown",
      "source": [
        "# 8.SPLIT THE DATA INTO DEPENDENT AND INDEPENDENT VARIABLE"
      ],
      "metadata": {
        "id": "YXyZ4ctFU-ve"
      }
    },
    {
      "cell_type": "code",
      "source": [
        "X=data.drop(columns=['Age'],axis=1)\n",
        "X.head()"
      ],
      "metadata": {
        "id": "JsHkIa6zVGTe"
      },
      "execution_count": null,
      "outputs": []
    },
    {
      "cell_type": "code",
      "source": [
        "Sex\tLength\tDiameter\tHeight\tWhole_weight\tShucked_weight\tViscera_weight\tShell_weight\n",
        "0\tM\t0.455\t0.365\t0.095\t0.5140\t0.2245\t0.1010\t0.150\n",
        "1\tM\t0.350\t0.265\t0.090\t0.2255\t0.0995\t0.0485\t0.070\n",
        "2\tF\t0.530\t0.420\t0.135\t0.6770\t0.2565\t0.1415\t0.210\n",
        "3\tM\t0.440\t0.365\t0.125\t0.5160\t0.2155\t0.1140\t0.155\n",
        "4\tI\t0.330\t0.255\t0.080\t0.2050\t0.0895\t0.0395\t0.055"
      ],
      "metadata": {
        "id": "svCkfAkkVIW-"
      },
      "execution_count": null,
      "outputs": []
    },
    {
      "cell_type": "code",
      "source": [
        "Y=data['Age']\n",
        "Y0      "
      ],
      "metadata": {
        "id": "UqFP64_yVO4j"
      },
      "execution_count": null,
      "outputs": []
    },
    {
      "cell_type": "code",
      "source": [
        "0       12\n",
        "1        4\n",
        "2        6\n",
        "3        7\n",
        "4        4\n",
        "        ..\n",
        "4172     8\n",
        "4173     7\n",
        "4174     6\n",
        "4175     7\n",
        "4176     9\n",
        "Name: Age, Length: 4177, dtype: int64"
      ],
      "metadata": {
        "id": "_V5DneFxVU8z"
      },
      "execution_count": null,
      "outputs": []
    },
    {
      "cell_type": "code",
      "source": [
        "9.SCALE THE INDEPENDENT VARIABLESfrom sklearn.preprocessing import scale\n",
        "X=data.drop(columns=['Shucked_weight'],axis=1)\n",
        "X.head()"
      ],
      "metadata": {
        "id": "PYwrDqcJVXQK"
      },
      "execution_count": null,
      "outputs": []
    },
    {
      "cell_type": "code",
      "source": [
        "\tSex\tLength\tDiameter\tHeight\tWhole_weight\tViscera_weight\tShell_weight\tAge\n",
        "0\tM\t0.455\t0.365\t0.095\t0.5140\t0.1010\t0.150\t12\n",
        "1\tM\t0.350\t0.265\t0.090\t0.2255\t0.0485\t0.070\t4\n",
        "2\tF\t0.530\t0.420\t0.135\t0.6770\t0.1415\t0.210\t6\n",
        "3\tM\t0.440\t0.365\t0.125\t0.5160\t0.1140\t0.155\t7\n",
        "4\tI\t0.330\t0.255\t0.080\t0.2050\t0.0395\t0.055\t4"
      ],
      "metadata": {
        "id": "oqZKTSyKVcra"
      },
      "execution_count": null,
      "outputs": []
    },
    {
      "cell_type": "code",
      "source": [
        "X_scaled=pd.DataFrame(scale(X),columns=X.columns)\n",
        "X_scaled.head()"
      ],
      "metadata": {
        "id": "XmHWTsI6Ve1E"
      },
      "execution_count": null,
      "outputs": []
    },
    {
      "cell_type": "markdown",
      "source": [
        "# 10.SPLIT THE DATA INTO TRAINING AND TEST DATA"
      ],
      "metadata": {
        "id": "t0Fn4iPlVjYM"
      }
    },
    {
      "cell_type": "code",
      "source": [
        "from sklearn.model_selection import train_test_split\n",
        "X_train, X_test, Y_train, Y_test = train_test_split(X_scaled, Y, test_size = 0.3, random_state = 0)\n",
        "X_train"
      ],
      "metadata": {
        "id": "wTCEct14VmAi"
      },
      "execution_count": null,
      "outputs": []
    },
    {
      "cell_type": "code",
      "source": [
        "X_train.shape"
      ],
      "metadata": {
        "id": "QQWVEqQJVmpa"
      },
      "execution_count": null,
      "outputs": []
    },
    {
      "cell_type": "code",
      "source": [
        "Y_train.shape"
      ],
      "metadata": {
        "id": "AjbUz50EVpdL"
      },
      "execution_count": null,
      "outputs": []
    },
    {
      "cell_type": "code",
      "source": [
        "X_test"
      ],
      "metadata": {
        "id": "S64V2GJyVtba"
      },
      "execution_count": null,
      "outputs": []
    },
    {
      "cell_type": "code",
      "source": [
        "X_test.shape"
      ],
      "metadata": {
        "id": "82JRlK5ZVvnd"
      },
      "execution_count": null,
      "outputs": []
    },
    {
      "cell_type": "code",
      "source": [
        "Y_test"
      ],
      "metadata": {
        "id": "me3D0mhxVxRb"
      },
      "execution_count": null,
      "outputs": []
    },
    {
      "cell_type": "code",
      "source": [
        "Y_test.shape"
      ],
      "metadata": {
        "id": "hKFtjkRYVydi"
      },
      "execution_count": null,
      "outputs": []
    },
    {
      "cell_type": "code",
      "source": [
        "X_train.head()"
      ],
      "metadata": {
        "id": "ht_xaTuaV1A7"
      },
      "execution_count": null,
      "outputs": []
    },
    {
      "cell_type": "code",
      "source": [
        "X_test.head()"
      ],
      "metadata": {
        "id": "9lj7Mg9UV2lL"
      },
      "execution_count": null,
      "outputs": []
    },
    {
      "cell_type": "code",
      "source": [
        "Y_train.head()"
      ],
      "metadata": {
        "id": "mfArA0VFV6mS"
      },
      "execution_count": null,
      "outputs": []
    },
    {
      "cell_type": "code",
      "source": [
        "Y_test.head()"
      ],
      "metadata": {
        "id": "1N4w3oVpV77r"
      },
      "execution_count": null,
      "outputs": []
    },
    {
      "cell_type": "markdown",
      "source": [
        "# 11. BUILD THE MODEL"
      ],
      "metadata": {
        "id": "7f40O6-qV-CT"
      }
    },
    {
      "cell_type": "code",
      "source": [
        "from sklearn.ensemble import RandomForestClassifier\n",
        "model = RandomForestClassifier(n_estimators=10,criterion='entropy')"
      ],
      "metadata": {
        "id": "hv-7MNZ6WA_D"
      },
      "execution_count": null,
      "outputs": []
    },
    {
      "cell_type": "code",
      "source": [
        "\n",
        "model.fit(X_train,Y_train)"
      ],
      "metadata": {
        "id": "IiXN3R2aWDXM"
      },
      "execution_count": null,
      "outputs": []
    },
    {
      "cell_type": "code",
      "source": [
        "\n",
        "y_predict = model.predict(X_test)"
      ],
      "metadata": {
        "id": "kfXG475SWFuZ"
      },
      "execution_count": null,
      "outputs": []
    },
    {
      "cell_type": "code",
      "source": [
        "y_predict_train = model.predict(X_train)"
      ],
      "metadata": {
        "id": "lYrhhQcnWIpC"
      },
      "execution_count": null,
      "outputs": []
    },
    {
      "cell_type": "markdown",
      "source": [
        "# 12. TRAIN THE MODEL"
      ],
      "metadata": {
        "id": "5j0b0bf9WMD7"
      }
    },
    {
      "cell_type": "code",
      "source": [
        "from sklearn.metrics import accuracy_score,confusion_matrix,classification_report"
      ],
      "metadata": {
        "id": "ftfBgqyAWolg"
      },
      "execution_count": null,
      "outputs": []
    },
    {
      "cell_type": "code",
      "source": [
        "\n",
        "print('Training accuracy: ',accuracy_score(Y_train,y_predict_train))"
      ],
      "metadata": {
        "id": "oLA_xFzLWwuV"
      },
      "execution_count": null,
      "outputs": []
    },
    {
      "cell_type": "markdown",
      "source": [
        "# 13. TEST THE MODEL"
      ],
      "metadata": {
        "id": "66-5lKu3W1_M"
      }
    },
    {
      "cell_type": "code",
      "source": [
        "print('Testing accuracy: ',accuracy_score(Y_test,y_predict))"
      ],
      "metadata": {
        "id": "B3Zcdf9YW6mz"
      },
      "execution_count": null,
      "outputs": []
    },
    {
      "cell_type": "markdown",
      "source": [
        "# 14. MEASURE THE PERFORMANCE USING METRICS"
      ],
      "metadata": {
        "id": "EEP_BQZ-W-Ir"
      }
    },
    {
      "cell_type": "code",
      "source": [
        "pd.crosstab(Y_test,y_predict)"
      ],
      "metadata": {
        "id": "acq0j4OhXGD7"
      },
      "execution_count": null,
      "outputs": []
    },
    {
      "cell_type": "code",
      "source": [
        "print(classification_report(Y_test,y_predict))"
      ],
      "metadata": {
        "id": "Z9PAsvWsXI_B"
      },
      "execution_count": null,
      "outputs": []
    },
    {
      "cell_type": "markdown",
      "source": [
        "# 14. MEASURE THE PERFORMANCE USING METRICS"
      ],
      "metadata": {
        "id": "dRpQS9M7XOsC"
      }
    },
    {
      "cell_type": "code",
      "source": [
        "pd.crosstab(Y_test,y_predict)"
      ],
      "metadata": {
        "id": "9tGvaj95XRFS"
      },
      "execution_count": null,
      "outputs": []
    },
    {
      "cell_type": "code",
      "source": [
        "print(classification_report(Y_test,y_predict))"
      ],
      "metadata": {
        "id": "98taLwlhXVYN"
      },
      "execution_count": null,
      "outputs": []
    }
  ]
}