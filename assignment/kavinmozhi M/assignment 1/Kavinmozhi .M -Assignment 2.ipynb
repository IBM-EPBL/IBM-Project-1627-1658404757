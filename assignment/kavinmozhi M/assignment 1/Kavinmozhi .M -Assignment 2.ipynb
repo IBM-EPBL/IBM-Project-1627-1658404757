{
 "cells": [
  {
   "cell_type": "code",
   "execution_count": null,
   "id": "7fda514f",
   "metadata": {
    "scrolled": false
   },
   "outputs": [],
   "source": [
    "import numpy as np\n",
    "import pandas as pd\n",
    "import seaborn as sns\n",
    "import matplotlib.pyplot as plt\n",
    "import sklearn"
   ]
  },
  {
   "cell_type": "markdown",
   "id": "767a9906",
   "metadata": {},
   "source": [
    "# 2.LOAD THE DATASET"
   ]
  },
  {
   "cell_type": "code",
   "execution_count": 1,
   "id": "b4e088f6",
   "metadata": {},
   "outputs": [
    {
     "ename": "NameError",
     "evalue": "name 'pd' is not defined",
     "output_type": "error",
     "traceback": [
      "\u001b[1;31m---------------------------------------------------------------------------\u001b[0m",
      "\u001b[1;31mNameError\u001b[0m                                 Traceback (most recent call last)",
      "\u001b[1;32m~\\AppData\\Local\\Temp\\ipykernel_15024\\1914668795.py\u001b[0m in \u001b[0;36m<module>\u001b[1;34m\u001b[0m\n\u001b[1;32m----> 1\u001b[1;33m \u001b[0mdata\u001b[0m \u001b[1;33m=\u001b[0m \u001b[0mpd\u001b[0m\u001b[1;33m.\u001b[0m\u001b[0mread_csv\u001b[0m\u001b[1;33m(\u001b[0m\u001b[1;34mr\"file:///C:\\Users\\Prince%20Rajakumaran\\Downloads\\abalone.csv\"\u001b[0m\u001b[1;33m)\u001b[0m\u001b[1;33m\u001b[0m\u001b[1;33m\u001b[0m\u001b[0m\n\u001b[0m",
      "\u001b[1;31mNameError\u001b[0m: name 'pd' is not defined"
     ]
    }
   ],
   "source": [
    "data = pd.read_csv(r\"file:///C:\\Users\\Prince%20Rajakumaran\\Downloads\\Churn_Modelling.csv\")"
   ]
  },
  {
   "cell_type": "markdown",
   "id": "ebf7a9b1",
   "metadata": {},
   "source": [
    "# 3. VISUALIZATIONS"
   ]
  },
  {
   "cell_type": "markdown",
   "id": "888a5cdc",
   "metadata": {},
   "source": [
    "# (i)UNIVARIATE ANALYSIS"
   ]
  },
  {
   "cell_type": "code",
   "execution_count": null,
   "id": "da4e467b",
   "metadata": {},
   "outputs": [],
   "source": [
    "sns.histplot(data[\"CreditScore\"])"
   ]
  },
  {
   "cell_type": "code",
   "execution_count": null,
   "id": "715d104e",
   "metadata": {},
   "outputs": [],
   "source": [
    "sns.distplot(data[\"Age\"])"
   ]
  },
  {
   "cell_type": "code",
   "execution_count": null,
   "id": "801d1fb4",
   "metadata": {},
   "outputs": [],
   "source": [
    "sns.boxplot(data['Age'])"
   ]
  },
  {
   "cell_type": "markdown",
   "id": "cb7e65e6",
   "metadata": {},
   "source": [
    "# (ii) BI-VARIATE ANALYSIS"
   ]
  },
  {
   "cell_type": "code",
   "execution_count": null,
   "id": "7ac66540",
   "metadata": {},
   "outputs": [],
   "source": [
    "sns.lineplot(x=data.CreditScore, y=data.EstimatedSalary)"
   ]
  },
  {
   "cell_type": "code",
   "execution_count": null,
   "id": "ed62d14b",
   "metadata": {},
   "outputs": [],
   "source": [
    "sns.barplot(x=data.CreditScore, y=data.Age)"
   ]
  },
  {
   "cell_type": "code",
   "execution_count": null,
   "id": "5481cd95",
   "metadata": {},
   "outputs": [],
   "source": [
    "plt.figure(figsize=(15,15))\n",
    "sns.barplot(x=data.Age , y=data.CreditScore)"
   ]
  },
  {
   "cell_type": "code",
   "execution_count": null,
   "id": "b85f72b1",
   "metadata": {},
   "outputs": [],
   "source": [
    "sns.scatterplot((data['Age'], data['Tenure']))"
   ]
  },
  {
   "cell_type": "markdown",
   "id": "09b00323",
   "metadata": {},
   "source": [
    "# (iii) MULTI-VARIATE ANALYSIS"
   ]
  },
  {
   "cell_type": "code",
   "execution_count": null,
   "id": "8f9a1b0d",
   "metadata": {},
   "outputs": [],
   "source": [
    "sns.pairplot(data)"
   ]
  },
  {
   "cell_type": "code",
   "execution_count": null,
   "id": "d9ba65f3",
   "metadata": {},
   "outputs": [],
   "source": [
    "data.corr()"
   ]
  },
  {
   "cell_type": "code",
   "execution_count": null,
   "id": "c41ed6ee",
   "metadata": {},
   "outputs": [],
   "source": [
    "sns.heatmap(data.corr(), annot = True)"
   ]
  },
  {
   "cell_type": "markdown",
   "id": "ef229729",
   "metadata": {},
   "source": [
    "# 4. DESCRIPTIVE STATISTICS"
   ]
  },
  {
   "cell_type": "code",
   "execution_count": null,
   "id": "0202b1e4",
   "metadata": {},
   "outputs": [],
   "source": [
    "data.mean()"
   ]
  },
  {
   "cell_type": "code",
   "execution_count": null,
   "id": "af512bdd",
   "metadata": {},
   "outputs": [],
   "source": [
    "data.median()"
   ]
  },
  {
   "cell_type": "code",
   "execution_count": null,
   "id": "e2f243b8",
   "metadata": {},
   "outputs": [],
   "source": [
    "data.mode()"
   ]
  },
  {
   "cell_type": "code",
   "execution_count": null,
   "id": "19e430bf",
   "metadata": {},
   "outputs": [],
   "source": [
    "data.var()"
   ]
  },
  {
   "cell_type": "code",
   "execution_count": null,
   "id": "4736b126",
   "metadata": {},
   "outputs": [],
   "source": [
    "data.std()"
   ]
  },
  {
   "cell_type": "code",
   "execution_count": null,
   "id": "af59adf5",
   "metadata": {},
   "outputs": [],
   "source": [
    "data.describe()"
   ]
  },
  {
   "cell_type": "markdown",
   "id": "e6ef159a",
   "metadata": {},
   "source": [
    "# 5.HANDLE THE MISSING VALUES"
   ]
  },
  {
   "cell_type": "code",
   "execution_count": null,
   "id": "3a61a980",
   "metadata": {},
   "outputs": [],
   "source": [
    "data.isnull().any()"
   ]
  },
  {
   "cell_type": "code",
   "execution_count": null,
   "id": "34096b95",
   "metadata": {},
   "outputs": [],
   "source": [
    "data.isnull().sum()"
   ]
  },
  {
   "cell_type": "markdown",
   "id": "95e9a0fb",
   "metadata": {},
   "source": [
    "# 6. FINDING OUTLIERS AND REPLACING THEM"
   ]
  },
  {
   "cell_type": "code",
   "execution_count": null,
   "id": "e930f261",
   "metadata": {},
   "outputs": [],
   "source": [
    "sns.boxplot(x=data['EstimatedSalary'])"
   ]
  },
  {
   "cell_type": "code",
   "execution_count": null,
   "id": "ad70c2a9",
   "metadata": {},
   "outputs": [],
   "source": [
    "Q1= data['EstimatedSalary'].quantile(0.25)\n",
    "Q2=data['EstimatedSalary'].quantile(0.75)\n",
    "print(Q1,Q2)"
   ]
  },
  {
   "cell_type": "code",
   "execution_count": null,
   "id": "e473eaea",
   "metadata": {},
   "outputs": [],
   "source": [
    "IQR=Q2-Q1\n",
    "IQR"
   ]
  },
  {
   "cell_type": "code",
   "execution_count": null,
   "id": "3441f912",
   "metadata": {},
   "outputs": [],
   "source": [
    "upper_limit =Q2 + 1.5*IQR\n",
    "lower_limit =Q1 - 1.5*IQR\n",
    "upper_limit\n",
    "lower_limit"
   ]
  },
  {
   "cell_type": "code",
   "execution_count": null,
   "id": "46159751",
   "metadata": {},
   "outputs": [],
   "source": [
    "data=data[data['EstimatedSalary']<upper_limit]"
   ]
  },
  {
   "cell_type": "code",
   "execution_count": null,
   "id": "dd6a8941",
   "metadata": {},
   "outputs": [],
   "source": [
    "data=data[data['EstimatedSalary']>lower_limit]"
   ]
  },
  {
   "cell_type": "code",
   "execution_count": null,
   "id": "708162b1",
   "metadata": {},
   "outputs": [],
   "source": [
    "sns.boxplot(x=data['EstimatedSalary'])"
   ]
  },
  {
   "cell_type": "code",
   "execution_count": null,
   "id": "f305147d",
   "metadata": {},
   "outputs": [],
   "source": [
    "p99= data['EstimatedSalary'].quantile(0.99)\n",
    "p99"
   ]
  },
  {
   "cell_type": "code",
   "execution_count": null,
   "id": "2503d4cc",
   "metadata": {},
   "outputs": [],
   "source": [
    "data = data[data['EstimatedSalary']<=p99]"
   ]
  },
  {
   "cell_type": "code",
   "execution_count": null,
   "id": "9f711184",
   "metadata": {},
   "outputs": [],
   "source": [
    "sns.boxplot(x=data['EstimatedSalary'])"
   ]
  },
  {
   "cell_type": "code",
   "execution_count": null,
   "id": "ec589a42",
   "metadata": {},
   "outputs": [],
   "source": [
    "data['EstimatedSalary'] = np.where(data['EstimatedSalary']>upper_limit,652,data['EstimatedSalary'])"
   ]
  },
  {
   "cell_type": "code",
   "execution_count": null,
   "id": "f64338d6",
   "metadata": {},
   "outputs": [],
   "source": [
    "data.shape"
   ]
  },
  {
   "cell_type": "markdown",
   "id": "4fb998a4",
   "metadata": {},
   "source": [
    "# 7. CHECK FOR CATERGORICAL COLUMNS AND PERFORM ENCODING"
   ]
  },
  {
   "cell_type": "code",
   "execution_count": null,
   "id": "49f696ab",
   "metadata": {},
   "outputs": [],
   "source": [
    "from sklearn.preprocessing import LabelEncoder, OneHotEncoder\n",
    "le = LabelEncoder()\n",
    "oneh = OneHotEncoder()\n",
    "data['Gender'] = le.fit_transform(data['Gender'])"
   ]
  },
  {
   "cell_type": "code",
   "execution_count": null,
   "id": "57b6f09d",
   "metadata": {},
   "outputs": [],
   "source": [
    "data.head()"
   ]
  },
  {
   "cell_type": "markdown",
   "id": "ed1036d8",
   "metadata": {},
   "source": [
    "# 8. SPLIT THE DATA INTO DEPENDENT AND INDEPENDENT VARIABLE"
   ]
  },
  {
   "cell_type": "code",
   "execution_count": null,
   "id": "3e6ee33d",
   "metadata": {},
   "outputs": [],
   "source": [
    "X=data.drop(columns=['EstimatedSalary'],axis=1)\n",
    "X.head()"
   ]
  },
  {
   "cell_type": "code",
   "execution_count": null,
   "id": "25bba4d4",
   "metadata": {},
   "outputs": [],
   "source": [
    "Y=data['EstimatedSalary']\n",
    "Y"
   ]
  },
  {
   "cell_type": "markdown",
   "id": "23d88de8",
   "metadata": {},
   "source": [
    "# 9. SCALE THE INDEPENDENT VARIABLES"
   ]
  },
  {
   "cell_type": "code",
   "execution_count": null,
   "id": "6aed897a",
   "metadata": {},
   "outputs": [],
   "source": [
    "from sklearn.preprocessing import scale\n",
    "X=data.drop(columns=['Surname','Geography','Gender'],axis=1)\n",
    "X.head()"
   ]
  },
  {
   "cell_type": "code",
   "execution_count": null,
   "id": "ca9fa5f2",
   "metadata": {},
   "outputs": [],
   "source": [
    "X_scaled=pd.DataFrame(scale(X),columns=X.columns)\n",
    "X_scaled.head()"
   ]
  },
  {
   "cell_type": "markdown",
   "id": "48a6bf64",
   "metadata": {},
   "source": [
    "# 10. SPLIT THE DATA INTO TRAINING AND TEST DATA "
   ]
  },
  {
   "cell_type": "code",
   "execution_count": null,
   "id": "bfa375b0",
   "metadata": {},
   "outputs": [],
   "source": [
    "from sklearn.model_selection import train_test_split\n",
    "X_train, X_test, Y_train, Y_test = train_test_split(X_scaled, Y, test_size = 0.3, random_state = 0)\n",
    "X_train"
   ]
  },
  {
   "cell_type": "code",
   "execution_count": null,
   "id": "77c23d3c",
   "metadata": {},
   "outputs": [],
   "source": [
    "X_train.shape"
   ]
  },
  {
   "cell_type": "code",
   "execution_count": null,
   "id": "12cacfaf",
   "metadata": {},
   "outputs": [],
   "source": [
    "Y_train.shape"
   ]
  },
  {
   "cell_type": "code",
   "execution_count": null,
   "id": "e78d7418",
   "metadata": {},
   "outputs": [],
   "source": [
    "X_test"
   ]
  },
  {
   "cell_type": "code",
   "execution_count": null,
   "id": "f8ce8754",
   "metadata": {},
   "outputs": [],
   "source": [
    "X_test.shape"
   ]
  },
  {
   "cell_type": "code",
   "execution_count": null,
   "id": "f38d8290",
   "metadata": {},
   "outputs": [],
   "source": [
    "Y_test"
   ]
  },
  {
   "cell_type": "code",
   "execution_count": null,
   "id": "49771cd8",
   "metadata": {},
   "outputs": [],
   "source": [
    "Y_test.shape"
   ]
  }
 ],
 "metadata": {
  "kernelspec": {
   "display_name": "Python 3 (ipykernel)",
   "language": "python",
   "name": "python3"
  },
  "language_info": {
   "codemirror_mode": {
    "name": "ipython",
    "version": 3
   },
   "file_extension": ".py",
   "mimetype": "text/x-python",
   "name": "python",
   "nbconvert_exporter": "python",
   "pygments_lexer": "ipython3",
   "version": "3.7.4"
  }
 },
 "nbformat": 4,
 "nbformat_minor": 5
}
