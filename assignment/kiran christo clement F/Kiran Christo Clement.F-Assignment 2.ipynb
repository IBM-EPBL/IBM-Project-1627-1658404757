{
  "nbformat": 4,
  "nbformat_minor": 0,
  "metadata": {
    "colab": {
      "provenance": []
    },
    "kernelspec": {
      "name": "python3",
      "display_name": "Python 3"
    },
    "language_info": {
      "name": "python"
    }
  },
  "cells": [
    {
      "cell_type": "code",
      "execution_count": 5,
      "metadata": {
        "id": "51IzrQe5DuDr"
      },
      "outputs": [],
      "source": [
        "import numpy as np\n",
        "import pandas as pd\n",
        "import seaborn as sns\n",
        "import matplotlib.pyplot as plt\n",
        "import sklearn"
      ]
    },
    {
      "cell_type": "code",
      "source": [],
      "metadata": {
        "id": "5Jqe5gHSDvMM"
      },
      "execution_count": null,
      "outputs": []
    },
    {
      "cell_type": "markdown",
      "source": [
        "# 2.LOAD THE DATASET"
      ],
      "metadata": {
        "id": "8bhwkxtHHmQm"
      }
    },
    {
      "cell_type": "code",
      "source": [
        "data = pd.read_csv(r\"file:///C:\\Users\\Christo\\Downloads\\Churn_Modelling.csv\")"
      ],
      "metadata": {
        "id": "-1fdjZBRD9MA"
      },
      "execution_count": null,
      "outputs": []
    },
    {
      "cell_type": "markdown",
      "source": [
        "# #3. VISUALIZATIONS\n"
      ],
      "metadata": {
        "id": "LlILvvxsI13D"
      }
    },
    {
      "cell_type": "markdown",
      "source": [],
      "metadata": {
        "id": "M3z1tYn7JKBq"
      }
    },
    {
      "cell_type": "code",
      "source": [
        "sns.histplot(data[\"CreditScore\"])"
      ],
      "metadata": {
        "id": "t43u3aVCJLX7"
      },
      "execution_count": null,
      "outputs": []
    },
    {
      "cell_type": "code",
      "source": [
        "sns.distplot(data[\"Age\"])"
      ],
      "metadata": {
        "id": "-K5Z0JE7JSsO"
      },
      "execution_count": null,
      "outputs": []
    },
    {
      "cell_type": "code",
      "source": [
        "sns.boxplot(data['Age'])"
      ],
      "metadata": {
        "id": "ZIxqFkNHJU6I"
      },
      "execution_count": null,
      "outputs": []
    },
    {
      "cell_type": "markdown",
      "source": [
        "#(ii) BI-VARIATE ANALYSIS"
      ],
      "metadata": {
        "id": "WHxMwbigJeaW"
      }
    },
    {
      "cell_type": "code",
      "source": [
        "sns.lineplot(x=data.CreditScore, y=data.EstimatedSalary)"
      ],
      "metadata": {
        "id": "PIerN9xaJiWW"
      },
      "execution_count": null,
      "outputs": []
    },
    {
      "cell_type": "code",
      "source": [
        "sns.barplot(x=data.CreditScore, y=data.Age)"
      ],
      "metadata": {
        "id": "Fe6KYCkFJkqv"
      },
      "execution_count": null,
      "outputs": []
    },
    {
      "cell_type": "code",
      "source": [
        "plt.figure(figsize=(15,15))\n",
        "sns.barplot(x=data.Age , y=data.CreditScore)"
      ],
      "metadata": {
        "id": "V-viGEDBJm7u"
      },
      "execution_count": null,
      "outputs": []
    },
    {
      "cell_type": "code",
      "source": [
        "sns.scatterplot((data['Age'], data['Tenure']))"
      ],
      "metadata": {
        "id": "cijUe1zzJqnW"
      },
      "execution_count": null,
      "outputs": []
    },
    {
      "cell_type": "markdown",
      "source": [
        "#(iii) MULTI-VARIATE ANALYSIS"
      ],
      "metadata": {
        "id": "tMMHObPgJsm2"
      }
    },
    {
      "cell_type": "code",
      "source": [
        "sns.pairplot(data)"
      ],
      "metadata": {
        "id": "WNCKPgzbJy42"
      },
      "execution_count": null,
      "outputs": []
    },
    {
      "cell_type": "code",
      "source": [
        "data.corr()"
      ],
      "metadata": {
        "id": "NZx9ehWUJ2RW"
      },
      "execution_count": null,
      "outputs": []
    },
    {
      "cell_type": "code",
      "source": [
        "sns.heatmap(data.corr(), annot = True)"
      ],
      "metadata": {
        "id": "d-86nbToJ6OB"
      },
      "execution_count": null,
      "outputs": []
    },
    {
      "cell_type": "markdown",
      "source": [
        "#4. DESCRIPTIVE STATISTICS"
      ],
      "metadata": {
        "id": "7thUmwMrJ9PG"
      }
    },
    {
      "cell_type": "code",
      "source": [
        "data.mean()"
      ],
      "metadata": {
        "id": "u_ZR3qeFKDXs"
      },
      "execution_count": null,
      "outputs": []
    },
    {
      "cell_type": "code",
      "source": [
        "data.median()"
      ],
      "metadata": {
        "id": "8GV2AhHNKGnM"
      },
      "execution_count": null,
      "outputs": []
    },
    {
      "cell_type": "code",
      "source": [
        "data.mode()"
      ],
      "metadata": {
        "id": "NSKk81vBKJA8"
      },
      "execution_count": null,
      "outputs": []
    },
    {
      "cell_type": "code",
      "source": [
        "data.var()"
      ],
      "metadata": {
        "id": "602mhZojKJHk"
      },
      "execution_count": null,
      "outputs": []
    },
    {
      "cell_type": "code",
      "source": [
        "data.std()"
      ],
      "metadata": {
        "id": "jsEMFpzOKScw"
      },
      "execution_count": null,
      "outputs": []
    },
    {
      "cell_type": "code",
      "source": [
        "data.describe()"
      ],
      "metadata": {
        "id": "z1G9LUjSKVkX"
      },
      "execution_count": null,
      "outputs": []
    },
    {
      "cell_type": "markdown",
      "source": [
        "#5.HANDLE THE MISSING VALUES"
      ],
      "metadata": {
        "id": "3w7VRBq3Kc8G"
      }
    },
    {
      "cell_type": "code",
      "source": [
        "data.isnull().any()"
      ],
      "metadata": {
        "id": "LZaLM-wGKdsl"
      },
      "execution_count": null,
      "outputs": []
    },
    {
      "cell_type": "code",
      "source": [
        "data.isnull().sum()"
      ],
      "metadata": {
        "id": "FVLAvKCSKfTm"
      },
      "execution_count": null,
      "outputs": []
    },
    {
      "cell_type": "markdown",
      "source": [
        "#6. FINDING OUTLIERS AND REPLACING THEM"
      ],
      "metadata": {
        "id": "1cy7fv5kKkpt"
      }
    },
    {
      "cell_type": "code",
      "source": [
        "sns.boxplot(x=data['EstimatedSalary'])\n"
      ],
      "metadata": {
        "id": "vKu95MYtKlOO"
      },
      "execution_count": null,
      "outputs": []
    },
    {
      "cell_type": "code",
      "source": [
        "Q1= data['EstimatedSalary'].quantile(0.25)\n",
        "Q2=data['EstimatedSalary'].quantile(0.75)\n",
        "print(Q1,Q2)"
      ],
      "metadata": {
        "id": "6O8n5wsWKrde"
      },
      "execution_count": null,
      "outputs": []
    },
    {
      "cell_type": "code",
      "source": [
        "IQR=Q2-Q1\n",
        "IQRv"
      ],
      "metadata": {
        "id": "u-N2j_cVKt8c"
      },
      "execution_count": null,
      "outputs": []
    },
    {
      "cell_type": "code",
      "source": [
        "upper_limit =Q2 + 1.5*IQR\n",
        "lower_limit =Q1 - 1.5*IQR\n",
        "upper_limit\n",
        "lower_limit"
      ],
      "metadata": {
        "id": "GkaHD5RrLO2s"
      },
      "execution_count": null,
      "outputs": []
    },
    {
      "cell_type": "code",
      "source": [
        "data=data[data['EstimatedSalary']<upper_limit]"
      ],
      "metadata": {
        "id": "PWDJ9JeyLTAL"
      },
      "execution_count": null,
      "outputs": []
    },
    {
      "cell_type": "code",
      "source": [
        "data=data[data['EstimatedSalary']>lower_limit]"
      ],
      "metadata": {
        "id": "TwPfJn4DLVX7"
      },
      "execution_count": null,
      "outputs": []
    },
    {
      "cell_type": "code",
      "source": [
        "sns.boxplot(x=data['EstimatedSalary'])"
      ],
      "metadata": {
        "id": "S0jN_i7BLfe8"
      },
      "execution_count": null,
      "outputs": []
    },
    {
      "cell_type": "code",
      "source": [
        "p99= data['EstimatedSalary'].quantile(0.99)\n",
        "p99"
      ],
      "metadata": {
        "id": "PKJ7xx88LkQj"
      },
      "execution_count": null,
      "outputs": []
    },
    {
      "cell_type": "code",
      "source": [
        "data = data[data['EstimatedSalary']<=p99]"
      ],
      "metadata": {
        "id": "jxHOG6vcLmbD"
      },
      "execution_count": null,
      "outputs": []
    },
    {
      "cell_type": "code",
      "source": [
        "sns.boxplot(x=data['EstimatedSalary'])"
      ],
      "metadata": {
        "id": "n6YFs_SeLooQ"
      },
      "execution_count": null,
      "outputs": []
    },
    {
      "cell_type": "code",
      "source": [
        "data['EstimatedSalary'] = np.where(data['EstimatedSalary']>upper_limit,652,data['EstimatedSalary'])"
      ],
      "metadata": {
        "id": "Ju3-SVGeLukn"
      },
      "execution_count": null,
      "outputs": []
    },
    {
      "cell_type": "code",
      "source": [
        "data.shape"
      ],
      "metadata": {
        "colab": {
          "base_uri": "https://localhost:8080/",
          "height": 165
        },
        "id": "1tYHYIDnL2qq",
        "outputId": "863f851e-344a-41a0-aab4-0c489d4a206b"
      },
      "execution_count": 7,
      "outputs": [
        {
          "output_type": "error",
          "ename": "NameError",
          "evalue": "ignored",
          "traceback": [
            "\u001b[0;31m---------------------------------------------------------------------------\u001b[0m",
            "\u001b[0;31mNameError\u001b[0m                                 Traceback (most recent call last)",
            "\u001b[0;32m<ipython-input-7-047ed65ff157>\u001b[0m in \u001b[0;36m<module>\u001b[0;34m\u001b[0m\n\u001b[0;32m----> 1\u001b[0;31m \u001b[0mdata\u001b[0m\u001b[0;34m.\u001b[0m\u001b[0mshape\u001b[0m\u001b[0;34m\u001b[0m\u001b[0;34m\u001b[0m\u001b[0m\n\u001b[0m",
            "\u001b[0;31mNameError\u001b[0m: name 'data' is not defined"
          ]
        }
      ]
    },
    {
      "cell_type": "markdown",
      "source": [
        "# 7. CHECK FOR CATERGORICAL COLUMNS AND PERFORM ENCODING"
      ],
      "metadata": {
        "id": "HFNQCrjRL3N3"
      }
    },
    {
      "cell_type": "code",
      "source": [
        "from sklearn.preprocessing import LabelEncoder, OneHotEncoder\n",
        "le = LabelEncoder()\n",
        "oneh = OneHotEncoder()\n",
        "data['Gender'] = le.fit_transform(data['Gender'])"
      ],
      "metadata": {
        "colab": {
          "base_uri": "https://localhost:8080/",
          "height": 200
        },
        "id": "AKPXexGVL6iz",
        "outputId": "bcfa290e-4bef-48cd-9ad6-a710bb955d63"
      },
      "execution_count": 6,
      "outputs": [
        {
          "output_type": "error",
          "ename": "NameError",
          "evalue": "ignored",
          "traceback": [
            "\u001b[0;31m---------------------------------------------------------------------------\u001b[0m",
            "\u001b[0;31mNameError\u001b[0m                                 Traceback (most recent call last)",
            "\u001b[0;32m<ipython-input-6-cdac9c1b5bfa>\u001b[0m in \u001b[0;36m<module>\u001b[0;34m\u001b[0m\n\u001b[1;32m      2\u001b[0m \u001b[0mle\u001b[0m \u001b[0;34m=\u001b[0m \u001b[0mLabelEncoder\u001b[0m\u001b[0;34m(\u001b[0m\u001b[0;34m)\u001b[0m\u001b[0;34m\u001b[0m\u001b[0;34m\u001b[0m\u001b[0m\n\u001b[1;32m      3\u001b[0m \u001b[0moneh\u001b[0m \u001b[0;34m=\u001b[0m \u001b[0mOneHotEncoder\u001b[0m\u001b[0;34m(\u001b[0m\u001b[0;34m)\u001b[0m\u001b[0;34m\u001b[0m\u001b[0;34m\u001b[0m\u001b[0m\n\u001b[0;32m----> 4\u001b[0;31m \u001b[0mdata\u001b[0m\u001b[0;34m[\u001b[0m\u001b[0;34m'Gender'\u001b[0m\u001b[0;34m]\u001b[0m \u001b[0;34m=\u001b[0m \u001b[0mle\u001b[0m\u001b[0;34m.\u001b[0m\u001b[0mfit_transform\u001b[0m\u001b[0;34m(\u001b[0m\u001b[0mdata\u001b[0m\u001b[0;34m[\u001b[0m\u001b[0;34m'Gender'\u001b[0m\u001b[0;34m]\u001b[0m\u001b[0;34m)\u001b[0m\u001b[0;34m\u001b[0m\u001b[0;34m\u001b[0m\u001b[0m\n\u001b[0m",
            "\u001b[0;31mNameError\u001b[0m: name 'data' is not defined"
          ]
        }
      ]
    },
    {
      "cell_type": "code",
      "source": [
        "data.head()"
      ],
      "metadata": {
        "id": "MODptIwjL9MK"
      },
      "execution_count": null,
      "outputs": []
    },
    {
      "cell_type": "markdown",
      "source": [
        "8. SPLIT THE DATA INTO DEPENDENT AND INDEPENDENT VARIABLE"
      ],
      "metadata": {
        "id": "DatdyxB8MDhJ"
      }
    },
    {
      "cell_type": "code",
      "source": [
        "X=data.drop(columns=['EstimatedSalary'],axis=1)\n",
        "X.head()"
      ],
      "metadata": {
        "id": "OsWJhidWML7x"
      },
      "execution_count": null,
      "outputs": []
    },
    {
      "cell_type": "code",
      "source": [
        "Y=data['EstimatedSalary']\n",
        "Y"
      ],
      "metadata": {
        "id": "YmsX-xT9MUbJ"
      },
      "execution_count": null,
      "outputs": []
    },
    {
      "cell_type": "markdown",
      "source": [
        "# 9. SCALE THE INDEPENDENT VARIABLES"
      ],
      "metadata": {
        "id": "WKUATPN5MZKr"
      }
    },
    {
      "cell_type": "code",
      "source": [
        "from sklearn.preprocessing import scale\n",
        "X=data.drop(columns=['Surname','Geography','Gender'],axis=1)\n",
        "X.head()"
      ],
      "metadata": {
        "id": "6xzXK5_NMeM4"
      },
      "execution_count": null,
      "outputs": []
    },
    {
      "cell_type": "code",
      "source": [
        "X_scaled=pd.DataFrame(scale(X),columns=X.columns)\n",
        "X_scaled.head()"
      ],
      "metadata": {
        "id": "34xC8RnjMfks"
      },
      "execution_count": null,
      "outputs": []
    },
    {
      "cell_type": "markdown",
      "source": [
        "# 10. SPLIT THE DATA INTO TRAINING AND TEST DATA"
      ],
      "metadata": {
        "id": "bG5seky-MjCK"
      }
    },
    {
      "cell_type": "code",
      "source": [
        "from sklearn.model_selection import train_test_split\n",
        "X_train, X_test, Y_train, Y_test = train_test_split(X_scaled, Y, test_size = 0.3, random_state = 0)\n",
        "X_train"
      ],
      "metadata": {
        "id": "xxeaVt69MnPT"
      },
      "execution_count": null,
      "outputs": []
    },
    {
      "cell_type": "code",
      "source": [
        "X_train.shape"
      ],
      "metadata": {
        "id": "k7Ghu7f-Morp"
      },
      "execution_count": null,
      "outputs": []
    },
    {
      "cell_type": "code",
      "source": [
        "Y_train.shape"
      ],
      "metadata": {
        "id": "84_pidEtMqMJ"
      },
      "execution_count": null,
      "outputs": []
    },
    {
      "cell_type": "code",
      "source": [
        "X_test"
      ],
      "metadata": {
        "id": "XXdeEV4JMrcB"
      },
      "execution_count": null,
      "outputs": []
    },
    {
      "cell_type": "code",
      "source": [
        "X_test.shape"
      ],
      "metadata": {
        "id": "zuVXxZQOMup4"
      },
      "execution_count": null,
      "outputs": []
    },
    {
      "cell_type": "code",
      "source": [
        "Y_test"
      ],
      "metadata": {
        "id": "Jdp-BflGMzSq"
      },
      "execution_count": null,
      "outputs": []
    },
    {
      "cell_type": "code",
      "source": [
        "Y_test.shape"
      ],
      "metadata": {
        "id": "l3FdYzYKMz0o"
      },
      "execution_count": null,
      "outputs": []
    }
  ]
}